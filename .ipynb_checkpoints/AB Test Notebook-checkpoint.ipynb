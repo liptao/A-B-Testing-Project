{
 "cells": [
  {
   "cell_type": "markdown",
   "metadata": {
    "toc": true
   },
   "source": [
    "<h1>Table of Contents<span class=\"tocSkip\"></span></h1>\n",
    "<div class=\"toc\"><ul class=\"toc-item\"><li><span><a href=\"#A/B-Testing-Case-Study\" data-toc-modified-id=\"A/B-Testing-Case-Study-1\"><span class=\"toc-item-num\">1&nbsp;&nbsp;</span>A/B Testing Case Study</a></span><ul class=\"toc-item\"><li><span><a href=\"#Project-Summary\" data-toc-modified-id=\"Project-Summary-1.1\"><span class=\"toc-item-num\">1.1&nbsp;&nbsp;</span>Project Summary</a></span></li><li><span><a href=\"#Data-and-Analysis\" data-toc-modified-id=\"Data-and-Analysis-1.2\"><span class=\"toc-item-num\">1.2&nbsp;&nbsp;</span>Data and Analysis</a></span><ul class=\"toc-item\"><li><span><a href=\"#Data-Cleaning-and-EDA\" data-toc-modified-id=\"Data-Cleaning-and-EDA-1.2.1\"><span class=\"toc-item-num\">1.2.1&nbsp;&nbsp;</span>Data Cleaning and EDA</a></span></li><li><span><a href=\"#Test-and-Control-Group-Assignment\" data-toc-modified-id=\"Test-and-Control-Group-Assignment-1.2.2\"><span class=\"toc-item-num\">1.2.2&nbsp;&nbsp;</span>Test and Control Group Assignment</a></span></li><li><span><a href=\"#Conversion-Rates\" data-toc-modified-id=\"Conversion-Rates-1.2.3\"><span class=\"toc-item-num\">1.2.3&nbsp;&nbsp;</span>Conversion Rates</a></span></li><li><span><a href=\"#Statistical-Testing\" data-toc-modified-id=\"Statistical-Testing-1.2.4\"><span class=\"toc-item-num\">1.2.4&nbsp;&nbsp;</span>Statistical Testing</a></span><ul class=\"toc-item\"><li><span><a href=\"#Statistical-Framework\" data-toc-modified-id=\"Statistical-Framework-1.2.4.1\"><span class=\"toc-item-num\">1.2.4.1&nbsp;&nbsp;</span>Statistical Framework</a></span></li><li><span><a href=\"#Power-Analysis\" data-toc-modified-id=\"Power-Analysis-1.2.4.2\"><span class=\"toc-item-num\">1.2.4.2&nbsp;&nbsp;</span>Power Analysis</a></span></li><li><span><a href=\"#Hypothesis-Testing\" data-toc-modified-id=\"Hypothesis-Testing-1.2.4.3\"><span class=\"toc-item-num\">1.2.4.3&nbsp;&nbsp;</span>Hypothesis Testing</a></span></li></ul></li></ul></li></ul></li></ul></div>"
   ]
  },
  {
   "cell_type": "markdown",
   "metadata": {},
   "source": [
    "## A/B Testing Case Study"
   ]
  },
  {
   "cell_type": "markdown",
   "metadata": {},
   "source": [
    "This notebook contains an extract of an A/B test I conducted on web load data. I have generalized the description of the case study to keep it anonymized."
   ]
  },
  {
   "cell_type": "markdown",
   "metadata": {},
   "source": [
    "### Project Summary\n",
    "\n",
    "The client is interested in improving their checkout flow. Currently, the checkout flow involves **three separate steps**. The A/B test aims to test a potential improvement to the first step that hopefully will improve conversion in this step.\n",
    "\n",
    "In the first step of the checkout flow, customers complete a 6 field form in order to proceed to the next checkout step. The client wants to test introducing a feature that reduces the number of fields in the form from 6 to 5. Rather than asking each applicant to fill in the 6th field, we can use a data vendor to look this up based on the other information entered by the customer for a cost of $2 per customer.\n",
    "\n",
    "The client conducts a split test that diverts on form loads. During the test, 50\\% of forms will load as the 6 field form and the other 50\\% will load as a 5 field form.\n",
    "\n",
    "What is the impact of this change?"
   ]
  },
  {
   "cell_type": "markdown",
   "metadata": {},
   "source": [
    "### Data and Analysis"
   ]
  },
  {
   "cell_type": "markdown",
   "metadata": {},
   "source": [
    "#### Data Cleaning and EDA"
   ]
  },
  {
   "cell_type": "code",
   "execution_count": 1,
   "metadata": {},
   "outputs": [],
   "source": [
    "# Import packages\n",
    "import numpy as np\n",
    "import pandas as pd\n",
    "from matplotlib import pyplot as plt\n",
    "import seaborn as sns\n",
    "from scipy import stats"
   ]
  },
  {
   "cell_type": "code",
   "execution_count": 2,
   "metadata": {},
   "outputs": [],
   "source": [
    "# Read data\n",
    "loads = pd.read_csv('data/loads.csv', parse_dates=True) # DF of all web loads\n",
    "testGroup = pd.read_csv('data/test_group.csv', parse_dates=True) # DF identifying test group observations"
   ]
  },
  {
   "cell_type": "markdown",
   "metadata": {},
   "source": [
    "`loads` contains 190830 observations of loads of all versions of the form. Each observation is identified by a unique id (`load_id`) and contains data on the load's date (`load_date`), whether the load resulted in a completion of the first checkout step (`completed_form`) and second checkout step (`completed_second`), and whether the customer completed checkout (each checkout identified by a `checkout_id`)."
   ]
  },
  {
   "cell_type": "code",
   "execution_count": 3,
   "metadata": {},
   "outputs": [
    {
     "name": "stdout",
     "output_type": "stream",
     "text": [
      "<class 'pandas.core.frame.DataFrame'>\n",
      "RangeIndex: 190830 entries, 0 to 190829\n",
      "Data columns (total 6 columns):\n",
      " #   Column            Non-Null Count   Dtype \n",
      "---  ------            --------------   ----- \n",
      " 0   Unnamed: 0        190830 non-null  int64 \n",
      " 1   load_id           190830 non-null  object\n",
      " 2   checkout_id       49323 non-null   object\n",
      " 3   load_date         190830 non-null  object\n",
      " 4   completed_form    190830 non-null  int64 \n",
      " 5   completed_second  190830 non-null  int64 \n",
      "dtypes: int64(3), object(3)\n",
      "memory usage: 8.7+ MB\n"
     ]
    }
   ],
   "source": [
    "loads.info()"
   ]
  },
  {
   "cell_type": "markdown",
   "metadata": {},
   "source": [
    "`testGroup` identifies 8495 loads of the 5-field form. Each observation identifies the `load_id` associated with observations assigned to the test group and the date of the load (`assignment_date`). We notice that the only 8495 observations are from the test group, which probably means that our `loads` data contains many more observations than an assumed 50-50 split experiment."
   ]
  },
  {
   "cell_type": "code",
   "execution_count": 4,
   "metadata": {},
   "outputs": [
    {
     "name": "stdout",
     "output_type": "stream",
     "text": [
      "<class 'pandas.core.frame.DataFrame'>\n",
      "RangeIndex: 8495 entries, 0 to 8494\n",
      "Data columns (total 3 columns):\n",
      " #   Column           Non-Null Count  Dtype \n",
      "---  ------           --------------  ----- \n",
      " 0   Unnamed: 0       8495 non-null   int64 \n",
      " 1   load_id          8495 non-null   object\n",
      " 2   assignment_date  8495 non-null   object\n",
      "dtypes: int64(1), object(2)\n",
      "memory usage: 199.2+ KB\n"
     ]
    }
   ],
   "source": [
    "testGroup.info()"
   ]
  },
  {
   "cell_type": "markdown",
   "metadata": {},
   "source": [
    "Before exploring the number of observations in the `loads` and `testGroup` data, we merge them to identify the relevant control and test observations in our experiment. We transform `load_date` and `assignment_date` into datetime type, drop the column `Unnamed:0` as it was an index column from the original csv files, and then merge `loads` and `testGroup` dataframes together on the unique `load_id` identifier. We find that all 8495 observations from the test group successfully merge."
   ]
  },
  {
   "cell_type": "code",
   "execution_count": 5,
   "metadata": {},
   "outputs": [
    {
     "name": "stdout",
     "output_type": "stream",
     "text": [
      "8495 observations successfully merged\n"
     ]
    }
   ],
   "source": [
    "# Transform date columns into datetime\n",
    "loads['load_date'] = pd.to_datetime(loads['load_date'])\n",
    "testGroup['assignment_date'] = pd.to_datetime(testGroup['assignment_date'])\n",
    "\n",
    "# Drop index columns\n",
    "loads.drop('Unnamed: 0', axis=1, inplace=True)\n",
    "testGroup.drop('Unnamed: 0', axis=1, inplace=True)\n",
    "\n",
    "# Merge prequals with intellicron_prequals\n",
    "mergedDF = pd.merge(loads, testGroup, how='outer', on='load_id', indicator=True)\n",
    "\n",
    "print('{} observations successfully merged'.format(sum(mergedDF['_merge']=='both')))"
   ]
  },
  {
   "cell_type": "markdown",
   "metadata": {},
   "source": [
    "After merging, we separate our data into two data frames. `test` includes all observations in the test group. `control` includes all observations not identified to be part of the test group."
   ]
  },
  {
   "cell_type": "code",
   "execution_count": 6,
   "metadata": {},
   "outputs": [],
   "source": [
    "# Get control and test data\n",
    "test = mergedDF.loc[mergedDF['_merge'] == 'both', mergedDF.columns != '_merge']\n",
    "control = mergedDF.loc[mergedDF['_merge'] == 'left_only', mergedDF.columns != '_merge']"
   ]
  },
  {
   "cell_type": "markdown",
   "metadata": {},
   "source": [
    "#### Test and Control Group Assignment"
   ]
  },
  {
   "cell_type": "markdown",
   "metadata": {},
   "source": [
    "The client did not give us any information on when they ran the experiment, so we investigate the date range of the experiment test group and compare it to our control group. We find that the experiment ranged from 2019-06-16 to 2019-06-30, while the control group contained data from 2019-01-01 to 2019-06-30. We have many observations of pre-experiment data of the 6-field form which can explain why the control group contains more observations."
   ]
  },
  {
   "cell_type": "code",
   "execution_count": 7,
   "metadata": {},
   "outputs": [
    {
     "name": "stdout",
     "output_type": "stream",
     "text": [
      "Test started 2019-06-16 00:00:00 and ended 2019-06-30 00:00:00\n",
      "Control date range started 2019-01-01 00:00:00 and ended 2019-06-30 00:00:00\n"
     ]
    }
   ],
   "source": [
    "# Check the test period\n",
    "testStart = test['load_date'].min()\n",
    "testEnd = test['load_date'].max()\n",
    "print('Test started {} and ended {}'.format(testStart, testEnd))\n",
    "\n",
    "# Check control period\n",
    "controlStart = control['load_date'].min()\n",
    "controlEnd = control['load_date'].max()\n",
    "print('Control date range started {} and ended {}'.format(controlStart, controlEnd))"
   ]
  },
  {
   "cell_type": "markdown",
   "metadata": {},
   "source": [
    "From the dates analysis, we assume that the experiment occured between 2019-06-16 and ended 2019-06-30 and drop all observations from the control group outside of this date range."
   ]
  },
  {
   "cell_type": "code",
   "execution_count": 8,
   "metadata": {},
   "outputs": [],
   "source": [
    "# Get pre-experiment data\n",
    "pre = control[control['load_date'] < testStart]\n",
    "# Only get control observations during the test period\n",
    "control = control[(control['load_date'] >= testStart) & (control['load_date'] <= testEnd)]"
   ]
  },
  {
   "cell_type": "markdown",
   "metadata": {},
   "source": [
    "After deleting the pre-experiment data, however, we still find a relatively large imbalance in the control and test sample sizes. The control group has 1,195 more observations than the test group."
   ]
  },
  {
   "cell_type": "code",
   "execution_count": 9,
   "metadata": {},
   "outputs": [
    {
     "name": "stdout",
     "output_type": "stream",
     "text": [
      "There are 18185 total trials\n",
      "There are 9690 observations in the control group\n",
      "There are 8495 observations in the test group\n",
      "There are 1195 more observations in the control group than the test group\n"
     ]
    }
   ],
   "source": [
    "# Check observations\n",
    "nControl = len(control)\n",
    "nTest = len(test)\n",
    "\n",
    "print('There are {} total trials'.format(nControl + nTest))\n",
    "print('There are {} observations in the control group'.format(nControl))\n",
    "print('There are {} observations in the test group'.format(nTest))\n",
    "print('There are {} more observations in the control group than the test group'.format(nControl-nTest))"
   ]
  },
  {
   "cell_type": "markdown",
   "metadata": {},
   "source": [
    "From plotting the observations across the test and control group, we can see that the client is consistently assigning more loads to the control group on every day of the experiment, so there is likely a non-random splitting process going on in the background."
   ]
  },
  {
   "cell_type": "code",
   "execution_count": 10,
   "metadata": {},
   "outputs": [
    {
     "data": {
      "image/png": "[encoded data removed]",
      "text/plain": [
       "<Figure size 1440x720 with 1 Axes>"
      ]
     },
     "metadata": {
      "needs_background": "light"
     },
     "output_type": "display_data"
    }
   ],
   "source": [
    "# Get the observation counts by date\n",
    "controlCountsByDate = control.groupby('load_date').size().reset_index(name='controlCounts').set_index('load_date')\n",
    "testCountsByDate = test.groupby('load_date').size().reset_index(name='testCounts').set_index('load_date')\n",
    "allCountsByDate = pd.concat([controlCountsByDate, testCountsByDate], axis=1)\n",
    "\n",
    "# Rename the index to d/m/YYYY format\n",
    "allCountsByDate.index = [d.strftime(\"%d/%m/%Y\") for d in allCountsByDate.index]\n",
    "\n",
    "#Plot the counts\n",
    "ax = allCountsByDate.plot.bar(figsize=(20, 10))"
   ]
  },
  {
   "cell_type": "markdown",
   "metadata": {},
   "source": [
    "If assignment into the test and control groups was truly random with a 50% probability, we can assume that the experiment split, $X$, follow a binomial distribution:\n",
    "$$\n",
    "X \\sim Bin(n, p)\n",
    "$$\n",
    "\n",
    "As our n is large, the binomial distribution can be approximated by the normal distribution where, \n",
    "$$\n",
    "X \\sim N(\\mu=np, \\sigma=\\sqrt{np(1-p)})\n",
    "$$\n",
    "\n",
    "With the normal distribution, we can find the probability of assigning 8495 observations or fewer into the test group, given a 50% probability of assignment "
   ]
  },
  {
   "cell_type": "code",
   "execution_count": 11,
   "metadata": {},
   "outputs": [
    {
     "name": "stdout",
     "output_type": "stream",
     "text": [
      " n =  18185 \n",
      " p =  0.5 \n",
      " mu =  9092.5 \n",
      " sigma =  67.4258852370512\n"
     ]
    }
   ],
   "source": [
    "# Define distribution parameters\n",
    "n = nControl + nTest\n",
    "p = 0.5\n",
    "mu = n*p\n",
    "sigma = np.sqrt(n*p*(1-p))\n",
    "\n",
    "print(' n = ',n,'\\n',\n",
    "    'p = ',p, '\\n',\n",
    "    'mu = ', mu, '\\n',\n",
    "    'sigma = ', sigma\n",
    ")"
   ]
  },
  {
   "cell_type": "markdown",
   "metadata": {},
   "source": [
    "The chart below shows the pdf of the normal distribution with a mean of 9092.5 and a standard deviation of 67.4. We only show the distribution range for of +/- 3 standard deviations around the mean and observe that the 8495 is more than 3 standard deviations away from the mean. In fact 8495 is more than 8.8 standard deviations away from the mean and the probability of assigning 8495 or fewer transactions to the test group given a probability of assignment of 0.5 is almost 0. \n",
    "\n",
    "From these results, we can conclude that it is highly unlikely that our control and test group are the result of a 50/50 random assignment process. In particular, we would be concerned that the assignment process is non-random."
   ]
  },
  {
   "cell_type": "code",
   "execution_count": 12,
   "metadata": {},
   "outputs": [
    {
     "data": {
      "image/png": "[encoded data removed]",
      "text/plain": [
       "<Figure size 1008x432 with 1 Axes>"
      ]
     },
     "metadata": {
      "needs_background": "light"
     },
     "output_type": "display_data"
    }
   ],
   "source": [
    "def plotNormal(mu, sigma):\n",
    "    '''\n",
    "    Plots normal distribution given mu and sigma\n",
    "    '''\n",
    "    fig, ax = plt.subplots(figsize=(14, 6))\n",
    "    x = np.linspace(mu - 3*sigma, mu + 3*sigma, 1000)\n",
    "    plt.plot(x, stats.norm.pdf(x, mu, sigma))\n",
    "\n",
    "plotNormal(mu, sigma)"
   ]
  },
  {
   "cell_type": "code",
   "execution_count": 13,
   "metadata": {},
   "outputs": [
    {
     "name": "stdout",
     "output_type": "stream",
     "text": [
      "The z score is -8.861581837588803.\n",
      "The probability of randomly assigning 8495 or fewer participants to the test group when the probability of assignment is 0.5 is 0.0\n"
     ]
    }
   ],
   "source": [
    "zScore = (nTest-mu)/sigma\n",
    "testCDF = stats.norm.cdf(zScore)\n",
    "print('The z score is {}.'.format(zScore))\n",
    "print('The probability of randomly assigning {} or fewer participants to the test group when the probability of assignment is 0.5 is {}'. format(nTest, round(testCDF, 2)))"
   ]
  },
  {
   "cell_type": "markdown",
   "metadata": {},
   "source": [
    "#### Conversion Rates"
   ]
  },
  {
   "cell_type": "markdown",
   "metadata": {},
   "source": [
    "This section summarizes our observed conversion rates for both groups. Both the control and test groups had higher conversions than non-conversions, but the test group had a higher conversion rate on form loads."
   ]
  },
  {
   "cell_type": "code",
   "execution_count": 14,
   "metadata": {},
   "outputs": [
    {
     "data": {
      "image/png": "[encoded data removed]",
      "text/plain": [
       "<Figure size 432x288 with 1 Axes>"
      ]
     },
     "metadata": {
      "needs_background": "light"
     },
     "output_type": "display_data"
    }
   ],
   "source": [
    "ax = sns.countplot(x='completed_form', data=control)"
   ]
  },
  {
   "cell_type": "code",
   "execution_count": 15,
   "metadata": {},
   "outputs": [
    {
     "data": {
      "image/png": "[encoded data removed]",
      "text/plain": [
       "<Figure size 432x288 with 1 Axes>"
      ]
     },
     "metadata": {
      "needs_background": "light"
     },
     "output_type": "display_data"
    }
   ],
   "source": [
    "ax = sns.countplot(x='completed_form', data=test)"
   ]
  },
  {
   "cell_type": "code",
   "execution_count": 16,
   "metadata": {},
   "outputs": [
    {
     "name": "stdout",
     "output_type": "stream",
     "text": [
      "Baseline conversion: 0.5253207448811145\n",
      "Control conversion: 0.5186790505675954\n",
      "Test conversion: 0.5483225426721601\n",
      "Observed lift: 0.029643492104564628\n"
     ]
    }
   ],
   "source": [
    "# Calculate conversion rates\n",
    "conversionPre = pre['completed_form'].mean()\n",
    "conversionControl = control['completed_form'].mean()\n",
    "conversionTest = test['completed_form'].mean()\n",
    "lift = conversionTest - conversionControl\n",
    "print('Baseline conversion: {}'.format(conversionPre))\n",
    "print('Control conversion: {}'.format(conversionControl))\n",
    "print('Test conversion: {}'.format(conversionTest))\n",
    "print('Observed lift: {}'.format(lift))"
   ]
  },
  {
   "cell_type": "markdown",
   "metadata": {},
   "source": [
    "While the conversion rate in the first checkout stage of the test group seems to be higher than the control group, we are interested in the quality of conversions and if outcomes are improved across the the checkout funnel. Ideally, the new feature would ultimately lead to more sales conversions in the final stage of the funnel."
   ]
  },
  {
   "cell_type": "code",
   "execution_count": 17,
   "metadata": {},
   "outputs": [
    {
     "name": "stdout",
     "output_type": "stream",
     "text": [
      "Control second stage conversion: 0.6707122960604854\n",
      "Test second stage conversion: 0.6629454701588665\n"
     ]
    }
   ],
   "source": [
    "conversionControlSecond = control['completed_second'].sum()/control['completed_form'].sum()\n",
    "conversionTestSecond = test['completed_second'].sum()/test['completed_form'].sum()\n",
    "print('Control second stage conversion: {}'.format(conversionControlSecond))\n",
    "print('Test second stage conversion: {}'.format(conversionTestSecond))"
   ]
  },
  {
   "cell_type": "code",
   "execution_count": 18,
   "metadata": {},
   "outputs": [
    {
     "name": "stdout",
     "output_type": "stream",
     "text": [
      "Control final stage conversion: 0.754375556214773\n",
      "Test final stage conversion: 0.7470854922279793\n"
     ]
    }
   ],
   "source": [
    "conversionControlFinal = control['checkout_id'].count()/control['completed_second'].sum()\n",
    "conversionTestFinal = test['checkout_id'].count()/test['completed_second'].sum()\n",
    "print('Control final stage conversion: {}'.format(conversionControlFinal))\n",
    "print('Test final stage conversion: {}'.format(conversionTestFinal))"
   ]
  },
  {
   "cell_type": "code",
   "execution_count": 19,
   "metadata": {},
   "outputs": [
    {
     "name": "stdout",
     "output_type": "stream",
     "text": [
      "Control Total conversion: 0.26243550051599585\n",
      "Test Total conversion: 0.27157151265450263\n"
     ]
    }
   ],
   "source": [
    "conversionControlTotal = control['checkout_id'].count()/nControl\n",
    "conversionTestTotal = test['checkout_id'].count()/nTest\n",
    "print('Control Total conversion: {}'.format(conversionControlTotal))\n",
    "print('Test Total conversion: {}'.format(conversionTestTotal))"
   ]
  },
  {
   "cell_type": "code",
   "execution_count": 20,
   "metadata": {},
   "outputs": [
    {
     "data": {
      "text/plain": [
       "<matplotlib.axes._subplots.AxesSubplot at 0x7f8d0ea71a90>"
      ]
     },
     "execution_count": 20,
     "metadata": {},
     "output_type": "execute_result"
    },
    {
     "data": {
      "image/png": "[encoded data removed]",
      "text/plain": [
       "<Figure size 1008x576 with 1 Axes>"
      ]
     },
     "metadata": {
      "needs_background": "light"
     },
     "output_type": "display_data"
    }
   ],
   "source": [
    "chartDF = pd.DataFrame(data = [[conversionControl, conversionTest],\n",
    "                               [conversionControlSecond, conversionTestSecond],\n",
    "                               [conversionControlFinal, conversionTestFinal],\n",
    "                               [conversionControlTotal, conversionControlTotal]\n",
    "                              ],\n",
    "                       index = ['First Stage Conversion Rate', \n",
    "                                'Second Stage Conversion Rate', \n",
    "                                'Final Stage Conversion Rate', \n",
    "                                'Total Conversion Rate'\n",
    "                               ], \n",
    "                       columns = ['control', 'test']\n",
    "                      )\n",
    "chartDF.plot.bar(figsize=(14, 8))"
   ]
  },
  {
   "cell_type": "markdown",
   "metadata": {},
   "source": [
    "The analysis above shows that the quality of conversions could be a concern. While the test group had a higher conversion rate in the first checkout stage, leading to the test group having relatively more customers entering the checkout funnel than the control group, conversions at the second and  final checkout stages were slightly lower, resulting in a muted improvement on sales. Though the client is mainly interested in increasing conversion at the first step of the checkout funnel, given the cost of $2 per look-up of the new feature, **we should be concerned about the cost-benefit of the feature as it does not seem to improve conversions on actual sales**."
   ]
  },
  {
   "cell_type": "markdown",
   "metadata": {},
   "source": [
    "#### Statistical Testing"
   ]
  },
  {
   "cell_type": "markdown",
   "metadata": {},
   "source": [
    "The section below will detail the statistical test used to analyze the experiment results."
   ]
  },
  {
   "cell_type": "markdown",
   "metadata": {},
   "source": [
    "##### Statistical Framework\n",
    "Assuming a form load follow a Bernoulli distribution defined by a conversion rate (or conversion probability) $p$:\n",
    "$$\n",
    "X \\sim Bernoulli(p)\n",
    "$$\n",
    "Then, the conversion rate follows a normal distribution, where:\n",
    "$$\n",
    "\\hat{p} \\sim N \\left ( \\mu=p, \\sigma = \\sqrt{\\frac{p(1-p)}{n}} \\right )\n",
    "$$\n",
    "\n",
    "The goal of the 5-field form is to generate a lift defined as the difference between the conversion rates between the test and control group:\n",
    "$$\n",
    "d = p_t - p_c\n",
    "$$\n",
    "where $d$ is lift of the test group over the control group, $p_t$ is the conversion rate of the test group (5-field form), and $p_c$ is the conversion rate of the control group (6-field form). \n",
    "\n",
    "The conversion rate, $p$, is defined as the ratio of completed forms, $X$, over total form loads, $n$:\n",
    "\n",
    "$$\n",
    "p = \\frac{x}{n}\n",
    "$$\n",
    "\n",
    "\n",
    "To statistically analyze the lift, we conduct a hypothesis test, where the null hypothesis is that there is no lift and the alternative hypothesis is that the lift is greater than 0 to see if our results are significant. The formalized hypotheses are the following:\n",
    "\n",
    "$$ \n",
    "H_0 : d = 0\n",
    "$$\n",
    "\n",
    "$$\n",
    "H_A : d > 0\n",
    "$$\n",
    "\n",
    "As $p_t$ and $p_c$ are normally distributed, independent, and have the same variance, $d$ is normally distributed:\n",
    "$$\n",
    "\\hat{d} \\sim N \\left ( \\mu=d, \\sigma = \\sqrt{ p_{pool}(1-p_{pool}) \\left ( \\frac{1}{n_c}+\\frac{1}{n_t} \\right ) } \\right )\n",
    "$$\n",
    "where $p_{pool} = \\frac{x_c+x_t}{n_c+n_t}$.\n",
    "\n",
    "\n",
    "Given the normal distribution of $d$, we can calculate a z test statistic for the hypothesis test:\n",
    "$$\n",
    "z = \\frac{\\hat{d}-0}{\\sqrt{ p_{pool}(1-p_{pool}) \\left ( \\frac{1}{n_c}+\\frac{1}{n_t} \\right ) }}\n",
    "$$\n",
    "For the hypothesis test, we assume a significance level ($\\alpha$) of 0.05. This means that we are willing to tolerate Type I errors, or false positive results, 5% of the time. If the p-value, or the probability of observing lift as or more extreme than the observed lift, is smaller than our sigificance level, we conclude that our results are statistically significant."
   ]
  },
  {
   "cell_type": "markdown",
   "metadata": {},
   "source": [
    "##### Power Analysis\n",
    "Before we began the experiment, we should have first considered the power of our experiment.\n",
    "\n",
    "Power is the defined as the probability of rejecting the null hypothesis, given that it is false. Normally, power is calculated as the following:\n",
    "\n",
    "$$\n",
    "Power = 1 - P(Type II error)\n",
    "$$\n",
    "\n",
    "In the context of our desired experiment on form loads, power is the probability of correctly concluding that our new test feature creates a lift in the conversion rate compared to control.\n",
    "\n",
    "One of the harder to grasp concepts related to power is that **power is determined ex-ante to analyzing the actual results of the experiment and conditional on some counterfactual true effect and variance that is not observed, and the probability of Type I error ($\\alpha$)**. That is, we never know the 'true' power of our experiment as we will never know the true parameters of the population. If we can only determine ex-ante power, why is power analysis useful?\n",
    "\n",
    "Ex-ante power analysis is useful because before you even start the experiment and observe any results, power analysis tells you if your experiment design is 'good enough' for what you setting out to accomplish. The most typical application for power-analysis in A/B testing is in the context of sample size determination. Given that we believe that our new feature is going to result in some lift, for example 3 percentage points, is our planned sample size large enough to detect such a lift. The larger the sample size, the more likely would our experiment be able to detect this counterfactual lift. It is standard to assume $\\alpha=0.05$ and $power=0.80$ to be acceptable for an experiment, but these values can change depending on the preferences of the experimenter."
   ]
  },
  {
   "cell_type": "markdown",
   "metadata": {},
   "source": [
    "In the example below, we calculate a power of 0.38 assuming that the baseline conversion rate of 52.5% is the baseline conversion rate, the true lift is 3 percentage points, 1000 observations per split in the experiment, and $\\alpha=0.05$. This means that even if the true lift is 3%, the null hypothesis will only be rejected the null hypothesis 38% of the time if we only collect 1000 observations per group. To achieve a power of 0.8 we must increase the sample size of our experiment.\n",
    "\n",
    "The chart also illustrates how power is affected by the effect of the alternative hypothesis and $\\alpha$. If the alternative hypothesis effect is larger and further away from the null hypothesis, the power of our test increases. If the $\\alpha$, or probability of type 1 error increases, our power increases as we are more likely to reject the null hypothesis."
   ]
  },
  {
   "cell_type": "code",
   "execution_count": 21,
   "metadata": {},
   "outputs": [
    {
     "data": {
      "image/png": "[encoded data removed]",
      "text/plain": [
       "<Figure size 1008x432 with 1 Axes>"
      ]
     },
     "metadata": {
      "needs_background": "light"
     },
     "output_type": "display_data"
    }
   ],
   "source": [
    "def powerPlot(baseline, d, nC, nT, alpha):\n",
    "    '''Plots null and alternative hypothesis with p-value and power shaded'''\n",
    "    \n",
    "    # Calculate Z stat\n",
    "    xC = nC*baseline\n",
    "    xT = nT*(baseline+d)\n",
    "    pPool = (xC+xT)/(nC + nT)\n",
    "    sePool = np.sqrt((pPool*(1-pPool))*(1/nC+1/nT))\n",
    "    zStat = d/sePool\n",
    "    \n",
    "    # define null and alternative distributions\n",
    "    h0 = stats.norm(loc = 0, scale = 1)\n",
    "    h1 = stats.norm(loc = zStat, scale = 1)\n",
    "    fig, ax = plt.subplots(figsize=(14, 6))\n",
    "    zCritical = h0.ppf(1 - alpha)\n",
    "    power = 1 - h1.cdf(zCritical)\n",
    "    x = np.linspace(-4, 10, 100)\n",
    "    mask = x > zCritical\n",
    "    hypotheses = [h1, h0]\n",
    "    labels = ['$H_1$ is true', '$H_0$ is true']\n",
    "    colors = ['red', 'blue']\n",
    "    for hypothesis, label, color in zip(hypotheses, labels, colors):\n",
    "        y = hypothesis.pdf(x)\n",
    "        line = plt.plot(x, y, label = label, color=color)  \n",
    "        plt.fill_between(x = x[mask], y1 = 0.0, y2 = y[mask],\n",
    "                         alpha = 0.2, color = color)\n",
    "    ax.axvline(x=0, c='blue', alpha=0.5, linestyle='--')\n",
    "    ax.axvline(x=zStat, c='red', alpha=0.5, linestyle='--')\n",
    "    ax.axvline(x=zCritical, c='grey', alpha=0.5, linestyle='--')\n",
    "    plt.legend()\n",
    "    plt.title('alpha = {}, power = {}'.format(alpha, round(power,2)))\n",
    "    plt.xlabel('Z')\n",
    "\n",
    "d = 0.03\n",
    "nC = 4330\n",
    "nT = 4330\n",
    "alpha = 0.05\n",
    "powerPlot(conversionPre, d, nC, nT, alpha)"
   ]
  },
  {
   "cell_type": "markdown",
   "metadata": {},
   "source": [
    "Python does not have a built in tool like R to calculate minumum sample sizes, but there are plenty of tools, such as https://www.evanmiller.org/ab-testing/sample-size.html that help with this. Using this tool, we find that we need a minimum sample size of 4,351 given a baseline conversion rate of 0.525, a minimum detectable effect of 0.03, power of 0.80, and a significance level of 0.05. Our current sample size of 8,000+ observations in each of the control and test group well surpases the sample size requirement. \n",
    "\n",
    "If the magnitude of the minimum detectable effect is smaller, the minimum sample size also increases, e.g. a minimum detectable effect of 0.02 percentage points requires 9,790 observations per variation. "
   ]
  },
  {
   "cell_type": "markdown",
   "metadata": {},
   "source": [
    "##### Hypothesis Testing\n",
    "\n",
    "In this section, I conduct a hypothesis test on the form load data and interpret the results."
   ]
  },
  {
   "cell_type": "code",
   "execution_count": 22,
   "metadata": {},
   "outputs": [],
   "source": [
    "# Define function for A/B hypothesis test\n",
    "\n",
    "def twoProportionTest(xControl, xTest, nControl, nTest, alpha=0.05):\n",
    "    '''\n",
    "    Function to perform one-tailed A/B hypothesis test for two sample proportions.\n",
    "    \n",
    "    Parameters\n",
    "    ----------\n",
    "    xControl, xTest: int\n",
    "        Number of successful conversions in control and test groups\n",
    "    nControl, nTest: int\n",
    "        Total number of trials in control and test groups\n",
    "    alpha: float\n",
    "        Significance level, default is 0.05\n",
    "        \n",
    "    Returns\n",
    "    -------\n",
    "    lift: float\n",
    "        observed lift between test and control group\n",
    "    zStat: int\n",
    "        z statistic of hypothesis test\n",
    "    pVal: float\n",
    "        p-value or probability of type I error\n",
    "    statSig: bool\n",
    "        True if test is statistically at alpha\n",
    "    '''\n",
    "    pControl = xControl / nControl\n",
    "    pTest = xTest / nTest\n",
    "    pPool = (xControl + xTest) / (nControl + nTest)\n",
    "    lift = abs(pTest - pControl)\n",
    "    sePool = np.sqrt((pPool * (1-pPool)) * (1/nControl+1/nTest))\n",
    "    zStat = lift / sePool\n",
    "    pVal = stats.norm.sf(abs(zStat))\n",
    "    statSig = pVal < alpha\n",
    "    print('The observed lift between the control group and test group is {}'.format(round(lift, 4)))\n",
    "    print('The z test statistic is {} and the p-value is {}'.format(round(zStat, 3), round(pVal, 4)))\n",
    "    if statSig:\n",
    "        print('Test conclusion: p<alpha, the lift is statistically significant at a significance level of {}'.format(alpha))\n",
    "    else:\n",
    "        print('Test conclusion: p>alpha, the lift is not statistically significant at a significance level of {}'.format(alpha))\n",
    "    return lift, zStat, pVal, statSig"
   ]
  },
  {
   "cell_type": "code",
   "execution_count": 23,
   "metadata": {},
   "outputs": [
    {
     "name": "stdout",
     "output_type": "stream",
     "text": [
      "The observed lift between the control group and test group is 0.0296\n",
      "The z test statistic is 3.997 and the p-value is 0.0\n",
      "Test conclusion: p<alpha, the lift is statistically significant at a significance level of 0.05\n"
     ]
    }
   ],
   "source": [
    "# Conduct hypothesis test\n",
    "xControl = control['completed_form'].sum()\n",
    "xTest = test['completed_form'].sum()\n",
    "lift, zStat, pVal, statSig = twoProportionTest(xControl, xTest, nControl, nTest)"
   ]
  },
  {
   "cell_type": "markdown",
   "metadata": {},
   "source": [
    "Our results show that the 5-field form in the test group resulted in a lift of 3 percentage points in the proportion of completed forms to form loads compared to the control group receiving the 6-field form. This result is statistically significant at the 5% level and a even stricter than the 1% level, leading us to reject the null hypothesis that there was no lift between the two form variations.\n",
    "\n",
    "Following up this analysis, it is necessary to consider the total conversion rate through the entire funnel. Since the 5-field form feature will cost $2 for each applicant passing throught the first stage of the checkout funnel, a thorough cost-benefit analysis should be conducted. Preliminary analysis indicates that conversion in the first stage of the funnel does not translate into conversions into sales. If this is the case, implementing the 5-field form will result in a negative impact on profits."
   ]
  }
 ],
 "metadata": {
  "kernelspec": {
   "display_name": "Python 3",
   "language": "python",
   "name": "python3"
  },
  "language_info": {
   "codemirror_mode": {
    "name": "ipython",
    "version": 3
   },
   "file_extension": ".py",
   "mimetype": "text/x-python",
   "name": "python",
   "nbconvert_exporter": "python",
   "pygments_lexer": "ipython3",
   "version": "3.7.7"
  },
  "toc": {
   "base_numbering": 1,
   "nav_menu": {},
   "number_sections": true,
   "sideBar": true,
   "skip_h1_title": true,
   "title_cell": "Table of Contents",
   "title_sidebar": "Contents",
   "toc_cell": true,
   "toc_position": {
    "height": "calc(100% - 180px)",
    "left": "10px",
    "top": "150px",
    "width": "165px"
   },
   "toc_section_display": true,
   "toc_window_display": true
  }
 },
 "nbformat": 4,
 "nbformat_minor": 4
}
